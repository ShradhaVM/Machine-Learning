{
  "nbformat": 4,
  "nbformat_minor": 0,
  "metadata": {
    "colab": {
      "name": "Assignment7.1_202011029.ipynb",
      "provenance": [],
      "collapsed_sections": []
    },
    "kernelspec": {
      "name": "python3",
      "display_name": "Python 3"
    },
    "language_info": {
      "name": "python"
    }
  },
  "cells": [
    {
      "cell_type": "markdown",
      "metadata": {
        "id": "jPrFuSjCRoTa"
      },
      "source": [
        "# Implementing Fuzzy C-means clustering algorithm using IRIS data to evaluate performance of the algorithm\n",
        "\n",
        "**Results**:\n",
        "*   Accuracy using own approach --> 87.84\n",
        "*   Accuracy using fuzzy-c-means --> 81.79"
      ]
    },
    {
      "cell_type": "code",
      "metadata": {
        "colab": {
          "base_uri": "https://localhost:8080/"
        },
        "id": "7cVjjST3G8UI",
        "outputId": "a40748b3-c66a-4956-d05a-58564d9a109f"
      },
      "source": [
        "pip install fuzzy-c-means"
      ],
      "execution_count": 124,
      "outputs": [
        {
          "output_type": "stream",
          "text": [
            "Requirement already satisfied: fuzzy-c-means in /usr/local/lib/python3.7/dist-packages (1.2.4)\n",
            "Requirement already satisfied: jaxlib<0.2.0,>=0.1.57 in /usr/local/lib/python3.7/dist-packages (from fuzzy-c-means) (0.1.65+cuda110)\n",
            "Requirement already satisfied: jax<0.3.0,>=0.2.7 in /usr/local/lib/python3.7/dist-packages (from fuzzy-c-means) (0.2.12)\n",
            "Requirement already satisfied: flatbuffers in /usr/local/lib/python3.7/dist-packages (from jaxlib<0.2.0,>=0.1.57->fuzzy-c-means) (1.12)\n",
            "Requirement already satisfied: scipy in /usr/local/lib/python3.7/dist-packages (from jaxlib<0.2.0,>=0.1.57->fuzzy-c-means) (1.4.1)\n",
            "Requirement already satisfied: numpy>=1.16 in /usr/local/lib/python3.7/dist-packages (from jaxlib<0.2.0,>=0.1.57->fuzzy-c-means) (1.19.5)\n",
            "Requirement already satisfied: absl-py in /usr/local/lib/python3.7/dist-packages (from jaxlib<0.2.0,>=0.1.57->fuzzy-c-means) (0.12.0)\n",
            "Requirement already satisfied: opt-einsum in /usr/local/lib/python3.7/dist-packages (from jax<0.3.0,>=0.2.7->fuzzy-c-means) (3.3.0)\n",
            "Requirement already satisfied: six in /usr/local/lib/python3.7/dist-packages (from absl-py->jaxlib<0.2.0,>=0.1.57->fuzzy-c-means) (1.15.0)\n"
          ],
          "name": "stdout"
        }
      ]
    },
    {
      "cell_type": "code",
      "metadata": {
        "id": "oX4ORQogYtrO"
      },
      "source": [
        "import numpy as np\n",
        "import math\n",
        "import random\n",
        "from sklearn.datasets import load_iris \n",
        "from fcmeans import FCM"
      ],
      "execution_count": 125,
      "outputs": []
    },
    {
      "cell_type": "code",
      "metadata": {
        "id": "B-a12oIrY53I"
      },
      "source": [
        "iris = load_iris()\n",
        "data = iris.data\n",
        "target = iris.target"
      ],
      "execution_count": 126,
      "outputs": []
    },
    {
      "cell_type": "markdown",
      "metadata": {
        "id": "xPzyOeVHUdrg"
      },
      "source": [
        "# Implementing Fuzzy C-means for,\n",
        "*   Hyperparameter m = 2\n",
        "*   Classes k = 3\n",
        "*   Maximum iterations max_epoch = 15\n",
        "\n",
        "\n"
      ]
    },
    {
      "cell_type": "code",
      "metadata": {
        "id": "12NmMW_1X45t",
        "colab": {
          "base_uri": "https://localhost:8080/"
        },
        "outputId": "8f68b7da-a47a-4567-9e5e-382f0bfc5ae1"
      },
      "source": [
        "k = 3\n",
        "max_epoch = 15\n",
        "m = 2\n",
        "\n",
        "# initializing membership matrix randomly\n",
        "mem_mat = []\n",
        "for i in range(len(data)):\n",
        "  random_list = [random.random() for i in range(k)]\n",
        "  # calculatation sum of elements in a row for normalizations\n",
        "  sum = np.sum(random_list)\n",
        "  temp_list = [x / sum for x in random_list]\n",
        "  mem_mat.append(temp_list) \n",
        "\n",
        "# starting the implementation for fuzzy c-means\n",
        "for iter in range(max_epoch):\n",
        "  centroids = []\n",
        "  updated_mem = []\n",
        "  denom = []\n",
        "  numer = []\n",
        "  distance = []\n",
        "\n",
        "  # calculating numerator and denominator for updation of centroids\n",
        "  for i in range(k):\n",
        "    sumd = 0.0\n",
        "    # calculation of denomaniator\n",
        "    for j in range(len(mem_mat)):\n",
        "      sumd = sumd + (mem_mat[j][i])**m\n",
        "    denom.append(sumd)\n",
        "    temp1 = []\n",
        "    # calculation of numerator\n",
        "    for col in range(len(data[0])):\n",
        "      sumn = 0.0\n",
        "      for j in range(len(mem_mat)):\n",
        "        sumn = sumn + (mem_mat[j][i])**m * data[j][col]\n",
        "      temp1.append(sumn)\n",
        "    numer.append(temp1)\n",
        "\n",
        "  # calculation of centroids \n",
        "  for i in range(len(numer)):\n",
        "    temp2 = []\n",
        "    for j in range(len(numer[0])):\n",
        "      temp2.append(numer[i][j]/denom[i])\n",
        "    centroids.append(temp2)\n",
        "  \n",
        "  # updating the distance of datapoints from centroids\n",
        "  for i in range(len(data)):\n",
        "    temp3 = []\n",
        "    for j in range(len(centroids)):\n",
        "      temp3.append(np.linalg.norm(data[i] - centroids[j]))\n",
        "    distance.append(temp3)\n",
        "\n",
        "  # updating the values of membership function\n",
        "  for i in range(len(distance)):\n",
        "    temp_list = []\n",
        "    for j in range(len(distance[i])):\n",
        "      sum = 0.0\n",
        "      for x in range(len(distance[i])):\n",
        "        sum += distance[i][j]**2/(distance[i][x])**2\n",
        "      temp_list.append((sum**(1/m-1))**-1)\n",
        "    updated_mem.append(temp_list)\n",
        "  mem_mat = updated_mem\n",
        "print(\"Cluster centers:\\n\", centroids[0],\"\\n\", centroids[1], \"\\n\", centroids[2])"
      ],
      "execution_count": 127,
      "outputs": [
        {
          "output_type": "stream",
          "text": [
            "Cluster centers:\n",
            " [6.224682227390855, 2.904840869210099, 4.8494457326416205, 1.6863582202426979] \n",
            " [6.225474643332334, 2.9044547534808176, 4.8517349645326036, 1.6873191916839736] \n",
            " [5.036999793449216, 3.4065899404190327, 1.543964002495743, 0.2946051046660017]\n"
          ],
          "name": "stdout"
        }
      ]
    },
    {
      "cell_type": "markdown",
      "metadata": {
        "id": "X4fnQVowV0sq"
      },
      "source": [
        "**Forming a target list called pred that contains row numbers of clustered data classified into respective clusters**"
      ]
    },
    {
      "cell_type": "code",
      "metadata": {
        "id": "teGyfFfr6xuY"
      },
      "source": [
        "pred = [[0 for i in range(0)] for j in range(k)]\n",
        "\n",
        "for i in range(len(data)):\n",
        "  d1 = np.linalg.norm(data[i] - centroids[0])\n",
        "  d2 = np.linalg.norm(data[i] - centroids[1])\n",
        "  d3 = np.linalg.norm(data[i] - centroids[2])\n",
        "  point = min(d1,d2,d3)\n",
        "\n",
        "  if point == d1:\n",
        "    pred[0].append(i)\n",
        "  if point == d2:\n",
        "    pred[1].append(i)\n",
        "  if point == d3:\n",
        "    pred[2].append(i)"
      ],
      "execution_count": 128,
      "outputs": []
    },
    {
      "cell_type": "markdown",
      "metadata": {
        "id": "boUZ5f9cV7wM"
      },
      "source": [
        "**Forming a target list called pred that contains row numbers of IRIS data classified into respective clusters**"
      ]
    },
    {
      "cell_type": "code",
      "metadata": {
        "id": "uMn9PSSc7FV1"
      },
      "source": [
        "labels = [[0 for i in range(0)] for j in range(k)]\n",
        "for i in range(len(target)):\n",
        "  labels[target[i]].append(i)"
      ],
      "execution_count": 129,
      "outputs": []
    },
    {
      "cell_type": "markdown",
      "metadata": {
        "id": "H3TLFoMHWA1J"
      },
      "source": [
        "**Performing Jaccard for finding similarity and accuracy**"
      ]
    },
    {
      "cell_type": "code",
      "metadata": {
        "id": "sI3JeWMr7F2g"
      },
      "source": [
        "jaccard = [0,0,0]\n",
        "\n",
        "for i in range(len(pred)):\n",
        "  sim = [0, 0, 0]\n",
        "  for j in range(len(pred[i])):\n",
        "    # finds the no of similar elements and updates the sim matrix accordingly\n",
        "    for l in range(3):\n",
        "      if pred[i][j] in labels[l]:\n",
        "        sim[l] += 1\n",
        "  # for finding out the most similar set between target and predicted labels\n",
        "  max_sim = sim.index(np.amax(sim))\n",
        "  u_list = list(set(pred[i]) | set(labels[max_sim]))\n",
        "  i_list = list(set(pred[i]) & set(labels[max_sim]))\n",
        "\n",
        "  jaccard[i] = len(i_list)/len(u_list)\n",
        "accuracy = (jaccard[0]*len(pred[0]))/len(data) + (jaccard[1]*len(pred[1]))/len(data) + (jaccard[2]*len(pred[2]))/len(data)"
      ],
      "execution_count": 130,
      "outputs": []
    },
    {
      "cell_type": "markdown",
      "metadata": {
        "id": "sykPfk59WES8"
      },
      "source": [
        "**Implementing Fuzzy C-means using fuzzy-c-means library**"
      ]
    },
    {
      "cell_type": "code",
      "metadata": {
        "colab": {
          "base_uri": "https://localhost:8080/"
        },
        "id": "aU0F6fGQFvGf",
        "outputId": "0e3939a2-b835-436c-b9eb-ebe391dad5d4"
      },
      "source": [
        "acc = 0\n",
        "X, y = load_iris(return_X_y=True)\n",
        "mod = FCM(n_clusters=3, max_iter=15, m=2)\n",
        "mod.fit(X)\n",
        "labels2 = np.array(mod.predict(X))\n",
        "print(\"Cluster centers:\\n\", mod.centers)"
      ],
      "execution_count": 131,
      "outputs": [
        {
          "output_type": "stream",
          "text": [
            "Cluster centers:\n",
            " [[5.887055   2.7603917  4.361212   1.3959041 ]\n",
            " [6.772746   3.0517201  5.643954   2.0524502 ]\n",
            " [5.0039616  3.414181   1.4826655  0.25347885]]\n"
          ],
          "name": "stdout"
        }
      ]
    },
    {
      "cell_type": "markdown",
      "metadata": {
        "id": "8dX5tMqNWIqk"
      },
      "source": [
        "**Calculating accuracy of sklearn approach using the Jaccard method used above**"
      ]
    },
    {
      "cell_type": "code",
      "metadata": {
        "id": "qBFL_GQWHuZh"
      },
      "source": [
        "fcm_labels = [[0 for i in range(0)] for j in range(k)]\n",
        "for i in range(len(labels2)):\n",
        "  fcm_labels[labels2[i]].append(i)\n",
        "\n",
        "jaccard2 = [0,0,0]\n",
        "\n",
        "for i in range(len(fcm_labels)):\n",
        "  sim = [0, 0, 0]\n",
        "  for j in range(len(fcm_labels[i])):\n",
        "    # finds the no of similar elements and updates the sim matrix accordingly\n",
        "    for l in range(3):\n",
        "      if fcm_labels[i][j] in labels[l]:\n",
        "        sim[l] += 1\n",
        "  # for finding out the most similar set between target and predicted labels\n",
        "  max_sim = sim.index(np.amax(sim))\n",
        "  u_list = list(set(fcm_labels[i]) | set(labels[max_sim]))\n",
        "  i_list = list(set(fcm_labels[i]) & set(labels[max_sim]))\n",
        "\n",
        "  jaccard2[i] = len(i_list)/len(u_list)\n",
        "\n",
        "accuracy2 = (jaccard2[0]*len(fcm_labels[0]))/len(data) + (jaccard2[1]*len(fcm_labels[1]))/len(data) + (jaccard2[2]*len(fcm_labels[2]))/len(data)"
      ],
      "execution_count": 132,
      "outputs": []
    },
    {
      "cell_type": "code",
      "metadata": {
        "colab": {
          "base_uri": "https://localhost:8080/"
        },
        "id": "VhUe-aNPOiow",
        "outputId": "169d8ea5-5a39-4c21-c744-96696aeebc05"
      },
      "source": [
        "print(\"Accuracy using own approach -->\",round(accuracy*100,2))\n",
        "print(\"Accuracy using fuzzy-c-means -->\",round(accuracy2*100,2))"
      ],
      "execution_count": 133,
      "outputs": [
        {
          "output_type": "stream",
          "text": [
            "Accuracy using own approach --> 87.84\n",
            "Accuracy using fuzzy-c-means --> 81.79\n"
          ],
          "name": "stdout"
        }
      ]
    },
    {
      "cell_type": "markdown",
      "metadata": {
        "id": "pdfmPNXrSjp_"
      },
      "source": [
        "# Implementing Agglomerative clustering algorithm using IRIS data to evaluate performance of the algorithm"
      ]
    },
    {
      "cell_type": "markdown",
      "metadata": {
        "id": "nILjQwoSWMSK"
      },
      "source": [
        "**For caculation the eucleadian distance between respective points**"
      ]
    },
    {
      "cell_type": "code",
      "metadata": {
        "id": "mTbbgw0KKnMq"
      },
      "source": [
        "def calculate_dist(a,b):\n",
        "  if isinstance(a,np.ndarray):\n",
        "    a = [a]\n",
        "  if isinstance(b,np.ndarray):\n",
        "    b = [b]\n",
        "  for i in a:\n",
        "    for j in b :\n",
        "     dist = (np.linalg.norm(i - j))\n",
        "  return dist  "
      ],
      "execution_count": 136,
      "outputs": []
    },
    {
      "cell_type": "markdown",
      "metadata": {
        "id": "ujIrIbB_WTC9"
      },
      "source": [
        "**For making a 2D matrix of distance of each point from each point**"
      ]
    },
    {
      "cell_type": "code",
      "metadata": {
        "id": "eWAajt7wAxiK"
      },
      "source": [
        "def calculate_dist_mat(data):\n",
        "  dist_mat = np.zeros((len(data), len(data)))\n",
        "  for i in range(len(data)):\n",
        "    for j in range(len(data)):\n",
        "      if i==j:\n",
        "        dist_mat[i,j] = 10**5\n",
        "      else:\n",
        "        dist_mat[i,j] = calculate_dist(data[i],data[j])\n",
        "        dist_mat[j,i] = 10**5  \n",
        "  return dist_mat"
      ],
      "execution_count": 137,
      "outputs": []
    },
    {
      "cell_type": "markdown",
      "metadata": {
        "id": "Clb76M-JWbI1"
      },
      "source": [
        "**Implementing Fuzzy c-means by merging and updating clusters**"
      ]
    },
    {
      "cell_type": "code",
      "metadata": {
        "id": "3WsmwjjEBA6G"
      },
      "source": [
        "clusters = list(data)\n",
        "while len(clusters) > k:\n",
        "  temp = []\n",
        "  mat = calculate_dist_mat(clusters)  \n",
        "  min_ind = np.where(mat == mat.min())\n",
        "  \n",
        "  # Clusters having minimum distance\n",
        "  clust_1 = clusters.pop(min_ind[0][0])\n",
        "  clust_2 = clusters.pop(min_ind[1][0])\n",
        "\n",
        "  # merging c1 and c2\n",
        "  if isinstance(clust_1,np.ndarray):\n",
        "    temp.extend([clust_1])\n",
        "  else:\n",
        "    temp.extend(clust_1)\n",
        "  if isinstance(clust_2,np.ndarray):\n",
        "    temp.extend([clust_2])\n",
        "  else:\n",
        "    temp.extend(clust_2)\n",
        "  clusters.append(temp)"
      ],
      "execution_count": 138,
      "outputs": []
    },
    {
      "cell_type": "markdown",
      "metadata": {
        "id": "00Q14qLKWqTt"
      },
      "source": [
        "**Obtaining labels using points in clusters**"
      ]
    },
    {
      "cell_type": "code",
      "metadata": {
        "id": "MNWR06P2CMSq"
      },
      "source": [
        "c0 = [x.tolist() for x in clusters[0]]\n",
        "c1 = [x.tolist() for x in clusters[1]]\n",
        "c2 = [x.tolist() for x in clusters[2]]\n",
        "\n",
        "labels = []\n",
        "for data in data.tolist():\n",
        "  if data in c0:\n",
        "    labels.append(0)\n",
        "  elif data in c1:\n",
        "    labels.append(1)\n",
        "  else:\n",
        "    labels.append(2)"
      ],
      "execution_count": 139,
      "outputs": []
    },
    {
      "cell_type": "code",
      "metadata": {
        "colab": {
          "base_uri": "https://localhost:8080/"
        },
        "id": "4aPrr-yaMli6",
        "outputId": "e97872c2-55e7-4aa0-840c-da812642c7b2"
      },
      "source": [
        "print(\"Predicted Labels : \\n\",np.array(labels))"
      ],
      "execution_count": 140,
      "outputs": [
        {
          "output_type": "stream",
          "text": [
            "Predicted Labels : \n",
            " [1 1 1 1 1 0 1 1 1 1 1 1 1 1 0 0 0 1 0 0 1 0 1 1 1 1 1 1 1 1 1 1 0 0 1 1 1\n",
            " 1 1 1 1 1 1 1 0 1 0 1 1 1 2 2 2 2 2 2 2 2 2 2 2 2 2 2 2 2 2 2 2 2 2 2 2 2\n",
            " 2 2 2 2 2 2 2 2 2 2 2 2 2 2 2 2 2 2 2 2 2 2 2 2 2 2 2 2 2 2 2 2 2 2 2 2 2\n",
            " 2 2 2 2 2 2 2 2 2 2 2 2 2 2 2 2 2 2 2 2 2 2 2 2 2 2 2 2 2 2 2 2 2 2 2 2 2\n",
            " 2 2]\n"
          ],
          "name": "stdout"
        }
      ]
    }
  ]
}
