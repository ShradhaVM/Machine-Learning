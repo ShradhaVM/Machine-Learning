{
  "nbformat": 4,
  "nbformat_minor": 0,
  "metadata": {
    "colab": {
      "name": "Assignment7.1_202011029.ipynb",
      "provenance": [],
      "collapsed_sections": []
    },
    "kernelspec": {
      "name": "python3",
      "display_name": "Python 3"
    },
    "language_info": {
      "name": "python"
    }
  },
  "cells": [
    {
      "cell_type": "markdown",
      "metadata": {
        "id": "jPrFuSjCRoTa"
      },
      "source": [
        "# Implementing Fuzzy C-means clustering algorithm using IRIS data to evaluate performance of the algorithm\n",
        "\n",
        "**Results**:\n",
        "*   Accuracy using own approach --> 87.88\n",
        "*   Accuracy using fuzzy-c-means --> 81.79"
      ]
    },
    {
      "cell_type": "code",
      "metadata": {
        "colab": {
          "base_uri": "https://localhost:8080/"
        },
        "id": "7cVjjST3G8UI",
        "outputId": "79e39f9e-82a5-444a-cfe2-5fd246e8332b"
      },
      "source": [
        "pip install fuzzy-c-means"
      ],
      "execution_count": 243,
      "outputs": [
        {
          "output_type": "stream",
          "text": [
            "Requirement already satisfied: fuzzy-c-means in /usr/local/lib/python3.7/dist-packages (1.2.4)\n",
            "Requirement already satisfied: jax<0.3.0,>=0.2.7 in /usr/local/lib/python3.7/dist-packages (from fuzzy-c-means) (0.2.11)\n",
            "Requirement already satisfied: jaxlib<0.2.0,>=0.1.57 in /usr/local/lib/python3.7/dist-packages (from fuzzy-c-means) (0.1.64+cuda110)\n",
            "Requirement already satisfied: numpy>=1.12 in /usr/local/lib/python3.7/dist-packages (from jax<0.3.0,>=0.2.7->fuzzy-c-means) (1.19.5)\n",
            "Requirement already satisfied: opt-einsum in /usr/local/lib/python3.7/dist-packages (from jax<0.3.0,>=0.2.7->fuzzy-c-means) (3.3.0)\n",
            "Requirement already satisfied: absl-py in /usr/local/lib/python3.7/dist-packages (from jax<0.3.0,>=0.2.7->fuzzy-c-means) (0.12.0)\n",
            "Requirement already satisfied: scipy in /usr/local/lib/python3.7/dist-packages (from jaxlib<0.2.0,>=0.1.57->fuzzy-c-means) (1.4.1)\n",
            "Requirement already satisfied: flatbuffers in /usr/local/lib/python3.7/dist-packages (from jaxlib<0.2.0,>=0.1.57->fuzzy-c-means) (1.12)\n",
            "Requirement already satisfied: six in /usr/local/lib/python3.7/dist-packages (from absl-py->jax<0.3.0,>=0.2.7->fuzzy-c-means) (1.15.0)\n"
          ],
          "name": "stdout"
        }
      ]
    },
    {
      "cell_type": "code",
      "metadata": {
        "id": "oX4ORQogYtrO"
      },
      "source": [
        "import numpy as np\n",
        "import math\n",
        "import random\n",
        "from sklearn.datasets import load_iris \n",
        "from fcmeans import FCM"
      ],
      "execution_count": 244,
      "outputs": []
    },
    {
      "cell_type": "code",
      "metadata": {
        "id": "B-a12oIrY53I"
      },
      "source": [
        "iris = load_iris()\n",
        "data = iris.data\n",
        "target = iris.target"
      ],
      "execution_count": 245,
      "outputs": []
    },
    {
      "cell_type": "code",
      "metadata": {
        "id": "gfZB0OkL6boD"
      },
      "source": [
        "def update_mat_num(distance_list, m):\n",
        "  update_val = []\n",
        "  for i in range(len(distance)):\n",
        "    sum = 0.0\n",
        "    for j in range(len(distance[i])):\n",
        "      sum += distance[i][j]**2/(distance[i][j])**2\n",
        "  update_val.append((sum**(1/m-1))**-1)\n",
        "  return update_val"
      ],
      "execution_count": 246,
      "outputs": []
    },
    {
      "cell_type": "code",
      "metadata": {
        "id": "12NmMW_1X45t",
        "colab": {
          "base_uri": "https://localhost:8080/"
        },
        "outputId": "eca8e11f-b35f-4933-846b-9fbb7bea5d17"
      },
      "source": [
        "k = 3\n",
        "max_epoch = 15\n",
        "m = 2\n",
        "\n",
        "mem_mat = []\n",
        "for i in range(len(data)):\n",
        "  random_list = [random.random() for i in range(k)]\n",
        "  sum = np.sum(random_list)\n",
        "  temp_list = [x / sum for x in random_list]  #First normalization\n",
        "  mem_mat.append(temp_list) \n",
        "\n",
        "for iter in range(max_epoch):\n",
        "  centroids = []\n",
        "  updated_mem = []\n",
        "  denom = []\n",
        "  numer = []\n",
        "  distance = []\n",
        "\n",
        "  for i in range(k):\n",
        "    sumd = 0.0\n",
        "    for j in range(len(mem_mat)):\n",
        "      sumd = sumd + (mem_mat[j][i])**m\n",
        "    denom.append(sumd)\n",
        "    temp1 = []\n",
        "    for col in range(len(data[0])):\n",
        "      sumn = 0.0\n",
        "      for j in range(len(mem_mat)):\n",
        "        sumn = sumn + (mem_mat[j][i])**m * data[j][col]\n",
        "      temp1.append(sumn)\n",
        "    numer.append(temp1)\n",
        "\n",
        "  for i in range(len(numer)):\n",
        "    temp2 = []\n",
        "    for j in range(len(numer[0])):\n",
        "      temp2.append(numer[i][j]/denom[i])\n",
        "    centroids.append(temp2)\n",
        "  \n",
        "  for i in range(len(data)):\n",
        "    temp3 = []\n",
        "    for j in range(len(centroids)):\n",
        "      temp3.append(np.linalg.norm(data[i] - centroids[j]))\n",
        "    distance.append(temp3)\n",
        "\n",
        "  for i in range(len(distance)):\n",
        "    temp_list = []\n",
        "    for j in range(len(distance[i])):\n",
        "      sum = 0.0\n",
        "      for x in range(len(distance[i])):\n",
        "        sum += distance[i][j]**2/(distance[i][x])**2\n",
        "      temp_list.append((sum**(1/m-1))**-1)\n",
        "    updated_mem.append(temp_list)\n",
        "  mem_mat = updated_mem\n",
        "print(\"Cluster centers:\\n\", centroids[0],\"\\n\", centroids[1], \"\\n\", centroids[2])"
      ],
      "execution_count": 247,
      "outputs": [
        {
          "output_type": "stream",
          "text": [
            "Cluster centers:\n",
            " [6.197068149173729, 2.912740748925745, 4.782195223504566, 1.6451799833700966] \n",
            " [5.043571859203614, 3.40006072817463, 1.5665887040879574, 0.3101327091532451] \n",
            " [6.207404358053732, 2.907614917536784, 4.812203595119024, 1.6575236082812925]\n"
          ],
          "name": "stdout"
        }
      ]
    },
    {
      "cell_type": "code",
      "metadata": {
        "id": "teGyfFfr6xuY"
      },
      "source": [
        "pred = [[0 for i in range(0)] for j in range(k)]\n",
        "\n",
        "for i in range(len(data)):\n",
        "  d1 = np.linalg.norm(data[i] - centroids[0])\n",
        "  d2 = np.linalg.norm(data[i] - centroids[1])\n",
        "  d3 = np.linalg.norm(data[i] - centroids[2])\n",
        "  point = min(d1,d2,d3)\n",
        "\n",
        "  if point == d1:\n",
        "    pred[0].append(i)\n",
        "  if point == d2:\n",
        "    pred[1].append(i)\n",
        "  if point == d3:\n",
        "    pred[2].append(i)"
      ],
      "execution_count": 248,
      "outputs": []
    },
    {
      "cell_type": "code",
      "metadata": {
        "id": "uMn9PSSc7FV1"
      },
      "source": [
        "labels = [[0 for i in range(0)] for j in range(k)]\n",
        "for i in range(len(target)):\n",
        "  labels[target[i]].append(i)"
      ],
      "execution_count": 249,
      "outputs": []
    },
    {
      "cell_type": "code",
      "metadata": {
        "id": "sI3JeWMr7F2g"
      },
      "source": [
        "jaccard = [0,0,0]\n",
        "\n",
        "for i in range(len(pred)):\n",
        "  sim = [0, 0, 0]\n",
        "  for j in range(len(pred[i])):\n",
        "    # finds the no of similar elements and updates the sim matrix accordingly\n",
        "    for l in range(3):\n",
        "      if pred[i][j] in labels[l]:\n",
        "        sim[l] += 1\n",
        "  # for finding out the most similar set between target and predicted labels\n",
        "  max_sim = sim.index(np.amax(sim))\n",
        "  u_list = list(set(pred[i]) | set(labels[max_sim]))\n",
        "  i_list = list(set(pred[i]) & set(labels[max_sim]))\n",
        "\n",
        "  jaccard[i] = len(i_list)/len(u_list)\n",
        "accuracy = (jaccard[0]*len(pred[0]))/len(data) + (jaccard[1]*len(pred[1]))/len(data) + (jaccard[2]*len(pred[2]))/len(data)"
      ],
      "execution_count": 250,
      "outputs": []
    },
    {
      "cell_type": "code",
      "metadata": {
        "colab": {
          "base_uri": "https://localhost:8080/"
        },
        "id": "aU0F6fGQFvGf",
        "outputId": "1ec17cff-4911-4e17-be50-b189e6a91f94"
      },
      "source": [
        "acc = 0\n",
        "X, y = load_iris(return_X_y=True)\n",
        "mod = FCM(n_clusters=3, max_iter=15, m=2)\n",
        "mod.fit(X)\n",
        "labels2 = np.array(mod.predict(X))\n",
        "print(\"Cluster centers:\\n\", mod.centers)"
      ],
      "execution_count": 251,
      "outputs": [
        {
          "output_type": "stream",
          "text": [
            "Cluster centers:\n",
            " [[5.8870544  2.7603922  4.361212   1.3959042 ]\n",
            " [6.7727475  3.051721   5.6439543  2.0524507 ]\n",
            " [5.0039616  3.414181   1.4826653  0.25347885]]\n"
          ],
          "name": "stdout"
        }
      ]
    },
    {
      "cell_type": "code",
      "metadata": {
        "id": "qBFL_GQWHuZh"
      },
      "source": [
        "fcm_labels = [[0 for i in range(0)] for j in range(k)]\n",
        "for i in range(len(labels2)):\n",
        "  fcm_labels[labels2[i]].append(i)\n",
        "\n",
        "jaccard2 = [0,0,0]\n",
        "\n",
        "for i in range(len(fcm_labels)):\n",
        "  sim = [0, 0, 0]\n",
        "  for j in range(len(fcm_labels[i])):\n",
        "    # finds the no of similar elements and updates the sim matrix accordingly\n",
        "    for l in range(3):\n",
        "      if fcm_labels[i][j] in labels[l]:\n",
        "        sim[l] += 1\n",
        "  # for finding out the most similar set between target and predicted labels\n",
        "  max_sim = sim.index(np.amax(sim))\n",
        "  u_list = list(set(fcm_labels[i]) | set(labels[max_sim]))\n",
        "  i_list = list(set(fcm_labels[i]) & set(labels[max_sim]))\n",
        "\n",
        "  jaccard2[i] = len(i_list)/len(u_list)\n",
        "\n",
        "accuracy2 = (jaccard2[0]*len(fcm_labels[0]))/len(data) + (jaccard2[1]*len(fcm_labels[1]))/len(data) + (jaccard2[2]*len(fcm_labels[2]))/len(data)"
      ],
      "execution_count": 252,
      "outputs": []
    },
    {
      "cell_type": "code",
      "metadata": {
        "colab": {
          "base_uri": "https://localhost:8080/"
        },
        "id": "VhUe-aNPOiow",
        "outputId": "2d6f4c0a-924d-4400-ec49-9906be59ad7e"
      },
      "source": [
        "print(\"Accuracy using own approach -->\",round(accuracy*100,2))\n",
        "print(\"Accuracy using fuzzy-c-means -->\",round(accuracy2*100,2))"
      ],
      "execution_count": 254,
      "outputs": [
        {
          "output_type": "stream",
          "text": [
            "Accuracy using own approach --> 87.88\n",
            "Accuracy using fuzzy-c-means --> 81.79\n"
          ],
          "name": "stdout"
        }
      ]
    }
  ]
}