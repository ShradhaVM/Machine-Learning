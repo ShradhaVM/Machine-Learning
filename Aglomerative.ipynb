{
  "nbformat": 4,
  "nbformat_minor": 0,
  "metadata": {
    "colab": {
      "name": "Aglomerative.ipynb",
      "provenance": [],
      "collapsed_sections": []
    },
    "kernelspec": {
      "name": "python3",
      "display_name": "Python 3"
    },
    "language_info": {
      "name": "python"
    }
  },
  "cells": [
    {
      "cell_type": "code",
      "metadata": {
        "id": "fb9kh24Ddinb"
      },
      "source": [
        "import numpy as np\n",
        "import math\n",
        "import random\n",
        "from sklearn.datasets import load_iris "
      ],
      "execution_count": null,
      "outputs": []
    },
    {
      "cell_type": "code",
      "metadata": {
        "id": "0K19uXnHdjqE"
      },
      "source": [
        "iris = load_iris()\n",
        "data = iris.data\n",
        "target = iris.target"
      ],
      "execution_count": null,
      "outputs": []
    },
    {
      "cell_type": "code",
      "metadata": {
        "id": "poHn6CrmdlCL"
      },
      "source": [
        "def min_dist(datapoints):\n",
        "  d = []\n",
        "  for i in range(len(datapoints)):\n",
        "    temp = []\n",
        "    dist = np.zeros((len(datapoints)))\n",
        "    for j in range(len(datapoints)):\n",
        "      if i != j:\n",
        "        dist[j] = np.linalg.norm(datapoints[i] - datapoints[j])\n",
        "      else:\n",
        "        dist[j] = 10**5\n",
        "    min = np.amin(dist)\n",
        "    temp.append(np.argmin(dist))\n",
        "    temp.append(np.amin(dist))\n",
        "    if np.amin(dist) != 0:\n",
        "      d.append(temp)\n",
        "  return d\n",
        "\n",
        "def calculate_centers(cluster_list):\n",
        "  centers = []\n",
        "  for i in range(len(cluster_list)):\n",
        "    sum = 0.0\n",
        "    for j in range(len(cluster_list[i])):\n",
        "      sum = sum + data[cluster_list[i][j]]\n",
        "    temp3 = sum/2\n",
        "    centers.append(temp3)\n",
        "  return centers\n",
        "\n",
        "def calculate_clusters(cluster_list, min_dist_list):\n",
        "  clusters = []\n",
        "  for i in range(len(d)):\n",
        "    temp2 = []\n",
        "    temp2.append(cluster_list[i])\n",
        "    temp2.append(cluster_list[d[i][0]])\n",
        "    temp2 = np.array(temp2)\n",
        "    temp2 = list(temp2.flatten())\n",
        "    clusters.append(temp2)\n",
        "  return clusters"
      ],
      "execution_count": null,
      "outputs": []
    },
    {
      "cell_type": "code",
      "metadata": {
        "id": "eG8pqFXudoGG"
      },
      "source": [
        "d = min_dist(data)\n",
        "clusters = []\n",
        "for i in range(len(d)):\n",
        "  temp2 = []\n",
        "  temp2.append(i)\n",
        "  temp2.append(d[i][0])\n",
        "  clusters.append(temp2)\n",
        "\n",
        "while len(clusters) > 3:\n",
        "  centers = calculate_centers(clusters)\n",
        "  d =  min_dist(centers)\n",
        "  clusters = calculate_clusters(clusters, d)"
      ],
      "execution_count": null,
      "outputs": []
    }
  ]
}