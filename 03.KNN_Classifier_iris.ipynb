{
  "nbformat": 4,
  "nbformat_minor": 0,
  "metadata": {
    "colab": {
      "name": "PRML-Assignment3_202011029.ipynb",
      "provenance": [],
      "collapsed_sections": []
    },
    "kernelspec": {
      "name": "python3",
      "display_name": "Python 3"
    }
  },
  "cells": [
    {
      "cell_type": "markdown",
      "metadata": {
        "id": "r3fZHKMFhB0a"
      },
      "source": [
        "## Implementing k-NN classifier for IRIS data \n",
        "> with k = 1, 3, 5 and 11\n",
        "\n",
        "> Repeating the experiment 10 times\n",
        "\n",
        "> Calculating the average accuracy\n",
        "\n",
        "\n",
        "\n",
        "\n"
      ]
    },
    {
      "cell_type": "code",
      "metadata": {
        "id": "NZG4wjHzK5P7"
      },
      "source": [
        "import numpy as np\n",
        "from sklearn.datasets import load_iris \n",
        "from sklearn.model_selection import train_test_split "
      ],
      "execution_count": null,
      "outputs": []
    },
    {
      "cell_type": "code",
      "metadata": {
        "id": "2o8bwqStLA49"
      },
      "source": [
        "iris = load_iris() \n",
        "data_list = iris.data \n",
        "target_list = iris.target "
      ],
      "execution_count": null,
      "outputs": []
    },
    {
      "cell_type": "code",
      "metadata": {
        "id": "-DIb4KMHLCKE",
        "colab": {
          "base_uri": "https://localhost:8080/"
        },
        "outputId": "e84df9af-6a71-4b25-c09d-040ad5054a13"
      },
      "source": [
        "iter = [1,3,5,11] # for values of k\n",
        "itr = 10\n",
        "accuracy_list1 = []\n",
        "accuracy_list2 = []\n",
        "\n",
        "for k in iter :\n",
        "\n",
        "  # Using own approach\n",
        "  for x in range(itr) : \n",
        "    # Splitting data into random train and test subsets\n",
        "    X_train, X_test, Y_train, Y_test = train_test_split(data_list, target_list,\\\n",
        "                                                        test_size = 0.2)\n",
        "    acc_count1 = 0\n",
        "    \n",
        "    for i in range(X_test.shape[0]):\n",
        "      dist = []\n",
        "      # Calculating Euclidean distance of each test set with every train example\n",
        "      for j in range(X_train.shape[0]):\n",
        "        dist.append([j, np.linalg.norm(X_test[i] - X_train[j])])\n",
        "      # Sorting the distances in increasing order\n",
        "      dist.sort(key = lambda dist: dist[1], reverse=False) \n",
        "\n",
        "      neighbours = []\n",
        "      # Appending k nearest labels from target training set to neighbours list \n",
        "      for j in range(k):\n",
        "        neighbours.append(Y_train[dist[j][0]])\n",
        "      label_count = [0,0,0]\n",
        "      \n",
        "      for j in range(k):\n",
        "        label_count[neighbours[j]] += 1\n",
        "      # Calculating majority class of neighbours list\n",
        "      label = label_count.index(max(label_count))\n",
        "      # Calculating accuracy\n",
        "      if label == Y_test[i] :\n",
        "        acc_count1 += 1\n",
        "\n",
        "    accuracy1 = acc_count1/Y_test.shape[0]\n",
        "    accuracy_list1.append(accuracy1)\n",
        "  print(\"Average Accuracy using own approach over\", itr, \"iterations for k =\",\\\n",
        "        k, \"-->\",(round(np.average(accuracy_list1),2))*100)\n",
        "  \n",
        "  # Using sklearn\n",
        "  acc_count2 = 0\n",
        "  knn = KNeighborsClassifier(n_neighbors = k)\n",
        "  knn.fit(X_train, Y_train)\n",
        "  y_pred = knn.predict(X_test)\n",
        "\n",
        "  for i in range(Y_test.shape[0]):\n",
        "    if y_pred[i] == Y_test[i] :\n",
        "      acc_count2 += 1\n",
        "\n",
        "  accuracy2 = acc_count2/Y_test.shape[0]\n",
        "  accuracy_list2.append(accuracy2)\n",
        "\n",
        "  print(\"Average Accuracy using Scikit-learn over\", itr, \"iterations for k =\",\\\n",
        "        k, \"-->\",(round(np.average(accuracy_list2),2))*100)\n",
        "  print('\\n')"
      ],
      "execution_count": 202,
      "outputs": [
        {
          "output_type": "stream",
          "text": [
            "Average Accuracy using own approach over 10 iterations for k = 1 --> 95.0\n",
            "Average Accuracy using Scikit-learn over 10 iterations for k = 1 --> 93.0\n",
            "\n",
            "\n",
            "Average Accuracy using own approach over 10 iterations for k = 3 --> 96.0\n",
            "Average Accuracy using Scikit-learn over 10 iterations for k = 3 --> 97.0\n",
            "\n",
            "\n",
            "Average Accuracy using own approach over 10 iterations for k = 5 --> 96.0\n",
            "Average Accuracy using Scikit-learn over 10 iterations for k = 5 --> 98.0\n",
            "\n",
            "\n",
            "Average Accuracy using own approach over 10 iterations for k = 11 --> 97.0\n",
            "Average Accuracy using Scikit-learn over 10 iterations for k = 11 --> 98.0\n",
            "\n",
            "\n"
          ],
          "name": "stdout"
        }
      ]
    }
  ]
}
