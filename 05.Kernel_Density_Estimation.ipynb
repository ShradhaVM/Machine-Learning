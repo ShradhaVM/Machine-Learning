{
  "nbformat": 4,
  "nbformat_minor": 0,
  "metadata": {
    "colab": {
      "name": "PRML-Assignment5-202011029.ipynb",
      "provenance": []
    },
    "kernelspec": {
      "name": "python3",
      "display_name": "Python 3"
    },
    "language_info": {
      "name": "python"
    }
  },
  "cells": [
    {
      "cell_type": "markdown",
      "metadata": {
        "id": "ncVnj7rZSvgR"
      },
      "source": [
        "# Kernel Density Estimation"
      ]
    },
    {
      "cell_type": "code",
      "metadata": {
        "id": "ma6ouIeUNBdV"
      },
      "source": [
        "import numpy as np\n",
        "import matplotlib.pyplot as plt\n",
        "from scipy import stats\n",
        "import random"
      ],
      "execution_count": 54,
      "outputs": []
    },
    {
      "cell_type": "markdown",
      "metadata": {
        "id": "vMqdCJ8MS4Ph"
      },
      "source": [
        "Drawing 1000 samples from p(x) = P1.p1(x) + P2.p2(x) where,\n",
        "*   P1 = 0.6\n",
        "*   P2 = 0.4\n",
        "*   p1(x) ~ N(5,10)\n",
        "*   p2(x) ~ N(10,15)\n",
        "\n",
        "Drawing a histogram for the obtained data."
      ]
    },
    {
      "cell_type": "code",
      "metadata": {
        "colab": {
          "base_uri": "https://localhost:8080/",
          "height": 281
        },
        "id": "LibvOt9jMM8R",
        "outputId": "af34642c-03bf-4deb-d03d-df5ce7146a33"
      },
      "source": [
        "# Calculating mean and variance for new Normal distribution\n",
        "# obtained by weighted sum of given normal distributions\n",
        "# reference of new means and vars - https://stats.stackexchange.com/questions/205126/standard-deviation-for-weighted-sum-of-normal-distributions \n",
        "\n",
        "# new mean and variance\n",
        "myu = 0.6*5 + 0.4*10\n",
        "var = 0.6*10 + 0.4*15 + 0.6*0.4*25\n",
        "n = np.random.normal(myu,np.sqrt(var),1000)\n",
        "\n",
        "# plotting histogram\n",
        "plt.hist(n, bins='auto')  # arguments are passed to np.histogram\n",
        "plt.title(\"Histogram on drawn samples with 'auto' bins\")\n",
        "plt.show()"
      ],
      "execution_count": 158,
      "outputs": [
        {
          "output_type": "display_data",
          "data": {
            "image/png": "[encoded data removed]",
            "text/plain": [
              "<Figure size 432x288 with 1 Axes>"
            ]
          },
          "metadata": {
            "tags": [],
            "needs_background": "light"
          }
        }
      ]
    },
    {
      "cell_type": "markdown",
      "metadata": {
        "id": "r2IuKBzUTQlp"
      },
      "source": [
        "# Using the KDE to estimate pdf of given samples"
      ]
    },
    {
      "cell_type": "code",
      "metadata": {
        "colab": {
          "base_uri": "https://localhost:8080/",
          "height": 282
        },
        "id": "F0engo_VYQyp",
        "outputId": "4ba88854-7e77-473c-a061-be380dfdbc03"
      },
      "source": [
        "h = ((4*np.sqrt(var)**5)/3000)**(-1/5) # bandwidth\n",
        "min = np.amin(n) # finding minimum value of 1000 samples for linspace\n",
        "max = np.amax(n) # finding maximum value of 1000 samples for linspace\n",
        "x = np.linspace(min, max, 1000) # a linearly spaced series of data points\n",
        "kde = []\n",
        "\n",
        "# obtaining kde values for all samples over linspace points\n",
        "for i in range(len(x)) : \n",
        "  K_sum = 0.0\n",
        "  # obtaining kernal summation for all sample points\n",
        "  for j in range(len(n)) : \n",
        "    K_sum = K_sum + 1/(h * np.sqrt(2*np.pi)) * np.exp(-(x[i] - n[j])**2 / (2 * h**2)) \n",
        "  term = (1/h*1000) * K_sum\n",
        "  kde.append(term)\n",
        "plt.plot(x,kde)"
      ],
      "execution_count": 173,
      "outputs": [
        {
          "output_type": "execute_result",
          "data": {
            "text/plain": [
              "[<matplotlib.lines.Line2D at 0x7f3ffd3e3f10>]"
            ]
          },
          "metadata": {
            "tags": []
          },
          "execution_count": 173
        },
        {
          "output_type": "display_data",
          "data": {
            "image/png": "[encoded data removed]",
            "text/plain": [
              "<Figure size 432x288 with 1 Axes>"
            ]
          },
          "metadata": {
            "tags": [],
            "needs_background": "light"
          }
        }
      ]
    }
  ]
}
