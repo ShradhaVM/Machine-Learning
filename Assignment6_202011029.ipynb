{
  "nbformat": 4,
  "nbformat_minor": 0,
  "metadata": {
    "colab": {
      "name": "PRML_Assignment6_202011029.ipynb",
      "provenance": [],
      "collapsed_sections": []
    },
    "kernelspec": {
      "name": "python38564bitc5a801491e894cea92f49402976df01d",
      "display_name": "Python 3.8.5 64-bit",
      "language": "python"
    },
    "language_info": {
      "name": "python",
      "version": "3.8.5"
    }
  },
  "cells": [
    {
      "cell_type": "markdown",
      "metadata": {
        "id": "b-noyVezK3ZT"
      },
      "source": [
        "# Implementing k-means clustering algorithm using IRIS data to evaluate performance of the algorithm\n",
        "\n",
        "**Results**:\n",
        "*   Accuracy using own approach --> 81.87\n",
        "*   Accuracy using scikit-learn --> 81.87\n"
      ]
    },
    {
      "cell_type": "code",
      "metadata": {
        "id": "EdWhwwOx4OCf"
      },
      "source": [
        "import numpy as np\n",
        "from sklearn.datasets import load_iris \n",
        "import random"
      ],
      "execution_count": 51,
      "outputs": []
    },
    {
      "cell_type": "markdown",
      "metadata": {
        "id": "sP7TrcWgLE8f"
      },
      "source": [
        "**Loading the IRIS dataset**"
      ]
    },
    {
      "cell_type": "code",
      "metadata": {
        "id": "SfqlvjkC1I5y"
      },
      "source": [
        "iris = load_iris()\n",
        "data = iris.data\n",
        "target = iris.target"
      ],
      "execution_count": 52,
      "outputs": []
    },
    {
      "cell_type": "markdown",
      "metadata": {
        "id": "dSsaSH3fLHqf"
      },
      "source": [
        "**Function for finding mean of the cluster and updating the centroid accordingly**"
      ]
    },
    {
      "cell_type": "code",
      "metadata": {
        "id": "StyGoz1u28Mj"
      },
      "source": [
        "def list_mean(cluster):\n",
        "  centroid = np.zeros(len(data[0]))\n",
        "  for i in range(len(cluster)):\n",
        "    centroid[0] = centroid[0] + cluster[i][0]\n",
        "    centroid[1] = centroid[1] + cluster[i][1]\n",
        "    centroid[2] = centroid[2] + cluster[i][2]\n",
        "    centroid[3] = centroid[3] + cluster[i][3]\n",
        "\n",
        "  centroid[0] = centroid[0]/len(cluster)\n",
        "  centroid[1] = centroid[1]/len(cluster)\n",
        "  centroid[2] = centroid[2]/len(cluster)\n",
        "  centroid[3] = centroid[3]/len(cluster)\n",
        "  return centroid"
      ],
      "execution_count": 53,
      "outputs": []
    },
    {
      "cell_type": "markdown",
      "metadata": {
        "id": "CeRHro81LP7P"
      },
      "source": [
        "**Performing the K-means clustering**"
      ]
    },
    {
      "cell_type": "code",
      "metadata": {
        "id": "2EnCLO1t1PBO"
      },
      "source": [
        "# Choosing the centroids randomly for the first iteration\n",
        "k = 3\n",
        "c1,c2,c3 = random.sample(range(0,149), k)\n",
        "c1 = data[c1]\n",
        "c2 = data[c2]\n",
        "c3 = data[c3]\n",
        "max_epoch = 20\n",
        "num_epoch = max_epoch\n",
        "\n",
        "# the loop either stops after max_epoch no of iterations or after centroids stop shifting\n",
        "for j in range(max_epoch):\n",
        "  cluster = [[0 for a in range(0)] for b in range(k)]\n",
        "  #finding the minimum distance for classification into clusters\n",
        "  for i in range(len(data)):\n",
        "    d = [0,0,0]\n",
        "    d[0] = np.linalg.norm(data[i] - c1)\n",
        "    d[1] = np.linalg.norm(data[i] - c2)\n",
        "    d[2] = np.linalg.norm(data[i] - c3)\n",
        "    \n",
        "    min_ind = d.index(min(d))\n",
        "    cluster[min_ind].append(data[i])\n",
        "    \n",
        "  nc1 = list_mean(cluster[0])\n",
        "  nc2 = list_mean(cluster[1])\n",
        "  nc3 = list_mean(cluster[2])\n",
        "  # checking if the centroid is getting updated or remains same\n",
        "  if set(nc1) == set(c1) and set(nc2) == set(c2) and set(nc3) == set(c3):\n",
        "    c1 = nc1\n",
        "    c2 = nc2\n",
        "    c3 = nc3\n",
        "    num_epoch = j\n",
        "    break\n",
        "  c1 = nc1\n",
        "  c2 = nc2\n",
        "  c3 = nc3"
      ],
      "execution_count": 54,
      "outputs": []
    },
    {
      "cell_type": "markdown",
      "metadata": {
        "id": "faDz6SmzLy14"
      },
      "source": [
        "**Forming a target list called pred that contains row numbers of clustered data classified into respective clusters**"
      ]
    },
    {
      "cell_type": "code",
      "metadata": {
        "id": "lA-7REhHDUGF"
      },
      "source": [
        "pred = [[0 for i in range(0)] for j in range(k)]\n",
        "\n",
        "for i in range(len(data)):\n",
        "  d1 = np.linalg.norm(data[i] - c1)\n",
        "  d2 = np.linalg.norm(data[i] - c2)\n",
        "  d3 = np.linalg.norm(data[i] - c3)\n",
        "  point = min(d1,d2,d3)\n",
        "\n",
        "  if point == d1:\n",
        "    pred[0].append(i)\n",
        "  if point == d2:\n",
        "    pred[1].append(i)\n",
        "  if point == d3:\n",
        "    pred[2].append(i)"
      ],
      "execution_count": 55,
      "outputs": []
    },
    {
      "cell_type": "markdown",
      "metadata": {
        "id": "-smIJW_CMm_C"
      },
      "source": [
        "**Forming a target list called pred that contains row numbers of IRIS data classified into respective clusters**\n"
      ]
    },
    {
      "cell_type": "code",
      "metadata": {
        "id": "EvGWuMZaGKu1"
      },
      "source": [
        "labels = [[0 for i in range(0)] for j in range(k)]\n",
        "for i in range(len(target)):\n",
        "  labels[target[i]].append(i)"
      ],
      "execution_count": 56,
      "outputs": []
    },
    {
      "cell_type": "markdown",
      "metadata": {
        "id": "Xm8fBuHaM3Bq"
      },
      "source": [
        "**Performing Jaccard for finding similarity and accuracy**"
      ]
    },
    {
      "cell_type": "code",
      "metadata": {
        "colab": {
          "base_uri": "https://localhost:8080/"
        },
        "id": "ylZ3We1UEgrO",
        "outputId": "a5e03fd1-4d08-423c-a0da-b06b9ebcf9ba"
      },
      "source": [
        "jaccard = [0,0,0]\n",
        "\n",
        "for i in range(len(pred)):\n",
        "  sim = [0, 0, 0]\n",
        "  for j in range(len(pred[i])):\n",
        "    # finds the no of similar elements and updates the sim matrix accordingly\n",
        "    for l in range(3):\n",
        "      if pred[i][j] in labels[l]:\n",
        "        sim[l] += 1\n",
        "  # for finding out the most similar set between target and predicted labels\n",
        "  max_sim = sim.index(np.amax(sim))\n",
        "  u_list = list(set(pred[i]) | set(labels[max_sim]))\n",
        "  i_list = list(set(pred[i]) & set(labels[max_sim]))\n",
        "\n",
        "  jaccard[i] = len(i_list)/len(u_list)\n",
        "\n",
        "accuracy = (jaccard[0]*len(pred[0]))/len(data) + (jaccard[1]*len(pred[1]))/len(data) + (jaccard[2]*len(pred[2]))/len(data)\n",
        "print(\"Clusterting halts after\", num_epoch, \"iterations.\")"
      ],
      "execution_count": 57,
      "outputs": [
        {
          "output_type": "stream",
          "name": "stdout",
          "text": [
            "Clusterting halts after 6 iterations.\n"
          ]
        }
      ]
    },
    {
      "cell_type": "markdown",
      "metadata": {
        "id": "zoWZylVqOf0-"
      },
      "source": [
        "**Implementing K-means clustering using sklearn**"
      ]
    },
    {
      "cell_type": "code",
      "metadata": {
        "id": "9lrPk90V22zq"
      },
      "source": [
        "from sklearn.cluster import KMeans\n",
        "acc = 0\n",
        "kmeans = KMeans(n_clusters=k, random_state=0).fit(data)"
      ],
      "execution_count": 58,
      "outputs": []
    },
    {
      "cell_type": "markdown",
      "metadata": {
        "id": "SWZ7VkYuOkbF"
      },
      "source": [
        "**Calculating accuracy of sklearn approach using the Jaccard method used above**"
      ]
    },
    {
      "cell_type": "code",
      "metadata": {
        "id": "Hr-eFtiJHg_N"
      },
      "source": [
        "km_labels = [[0 for i in range(0)] for j in range(k)]\n",
        "for i in range(len(kmeans.labels_)):\n",
        "  km_labels[kmeans.labels_[i]].append(i)\n",
        "\n",
        "km_jaccard = [0,0,0]\n",
        "\n",
        "for i in range(len(km_labels)):\n",
        "  sim = [0, 0, 0]\n",
        "  for j in range(len(km_labels[i])):\n",
        "    for l in range(3):\n",
        "      if km_labels[i][j] in labels[l]:\n",
        "        sim[l] += 1\n",
        "  max_sim = sim.index(np.amax(sim))\n",
        "  u_list = list(set(km_labels[i]) | set(labels[max_sim]))\n",
        "  i_list = list(set(km_labels[i]) & set(labels[max_sim]))\n",
        "\n",
        "  km_jaccard[i] = len(i_list)/len(u_list)\n",
        "\n",
        "accuracy2 = (km_jaccard[0]*len(km_labels[0]))/len(data) + (km_jaccard[1]*len(km_labels[1]))/len(data) + (km_jaccard[2]*len(km_labels[2]))/len(data)"
      ],
      "execution_count": 59,
      "outputs": []
    },
    {
      "cell_type": "code",
      "metadata": {
        "colab": {
          "base_uri": "https://localhost:8080/"
        },
        "id": "2HVOIx9ONr-f",
        "outputId": "ae45d24e-40b9-420c-c727-a0bee13d8c2a"
      },
      "source": [
        "print(\"Accuracy using own approach -->\",round(accuracy*100,2))\n",
        "print(\"Accuracy using scikit-learn -->\",round(accuracy2*100,2))"
      ],
      "execution_count": 60,
      "outputs": [
        {
          "output_type": "stream",
          "name": "stdout",
          "text": [
            "Accuracy using own approach --> 81.87\nAccuracy using scikit-learn --> 81.87\n"
          ]
        }
      ]
    }
  ]
}